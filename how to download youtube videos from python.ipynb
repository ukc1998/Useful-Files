{
 "cells": [
  {
   "cell_type": "code",
   "execution_count": null,
   "id": "0da8ed91",
   "metadata": {},
   "outputs": [],
   "source": [
    "from pytube import YouTube # if pytube not installed: pip install pytube \n",
    "\n",
    "#ask for the link from user\n",
    "link = input(\"Enter the link of YouTube video you want to download:  \")\n",
    "yt = YouTube(link)\n",
    "\n",
    "#Showing details\n",
    "print(\"Title: \",yt.title)\n",
    "print(\"Number of views: \",yt.views)\n",
    "print(\"Length of video: \",yt.length)\n",
    "print(\"Rating of video: \",yt.rating)\n",
    "#Getting the highest resolution possible\n",
    "ys = yt.streams.get_highest_resolution()\n",
    "\n",
    "#Starting download\n",
    "print(\"Downloading...\")\n",
    "ys.download()\n",
    "print(\"Download completed!!\")"
   ]
  }
 ],
 "metadata": {
  "kernelspec": {
   "display_name": "Python 3 (ipykernel)",
   "language": "python",
   "name": "python3"
  },
  "language_info": {
   "codemirror_mode": {
    "name": "ipython",
    "version": 3
   },
   "file_extension": ".py",
   "mimetype": "text/x-python",
   "name": "python",
   "nbconvert_exporter": "python",
   "pygments_lexer": "ipython3",
   "version": "3.9.7"
  }
 },
 "nbformat": 4,
 "nbformat_minor": 5
}
